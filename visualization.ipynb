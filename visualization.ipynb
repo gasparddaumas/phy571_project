{
 "cells": [
  {
   "cell_type": "code",
   "execution_count": null,
   "id": "71ea4b99",
   "metadata": {},
   "outputs": [],
   "source": [
    "%matplotlib notebook\n",
    "%config InlineBackend.print_figure_kwargs={'bbox_inches':None}\n",
    "\n",
    "import sys\n",
    "import numpy as np\n",
    "import matplotlib.pyplot as plt\n",
    "import matplotlib.animation as animation\n",
    "from source.spectral import Spectral\n",
    "np.random.seed(0)"
   ]
  },
  {
   "cell_type": "code",
   "execution_count": null,
   "id": "ba48a85a",
   "metadata": {},
   "outputs": [],
   "source": [
    "plt.rcParams['figure.figsize'] = [4,4]"
   ]
  },
  {
   "cell_type": "markdown",
   "id": "065dba06",
   "metadata": {},
   "source": [
    "# Initializing spectral model"
   ]
  },
  {
   "cell_type": "code",
   "execution_count": null,
   "id": "76f26f17",
   "metadata": {},
   "outputs": [],
   "source": [
    "spec = Spectral(1, 1, 64, 64, 0.3, 'random')\n",
    "spec.step = spec.step_method5"
   ]
  },
  {
   "cell_type": "code",
   "execution_count": null,
   "id": "8a0ca158",
   "metadata": {
    "scrolled": true
   },
   "outputs": [],
   "source": [
    "fig, axs = plt.subplots()\n",
    "axs.set_title(\"Visualization\")\n",
    "axs.set_xlabel(\"X\")\n",
    "axs.set_ylabel(\"Y\")\n",
    "\n",
    "img=False\n",
    "# levels=[-1, 0, 1]\n",
    "levels=5\n",
    "\n",
    "if img : image = axs.imshow(spec.u, cmap='gray', origin='lower', animated=True)\n",
    "if not img : axs.contourf(spec.y, spec.x, spec.u, levels=levels, cmap='gray')\n",
    "\n",
    "dt, Nt = 1e-7, 1\n",
    "def animate(i):\n",
    "    spec.advance(dt, Nt)\n",
    "\n",
    "    if img: image.set_data(spec.u)\n",
    "    if not img: axs.clear()\n",
    "    if not img: axs.contourf(spec.y, spec.x, spec.u, levels=levels, cmap='gray')\n",
    "    return"
   ]
  },
  {
   "cell_type": "code",
   "execution_count": null,
   "id": "6602af84",
   "metadata": {},
   "outputs": [],
   "source": [
    "anim = animation.FuncAnimation(fig=fig, func=animate)\n",
    "fig.show()"
   ]
  },
  {
   "cell_type": "code",
   "execution_count": null,
   "id": "4f21d4c3",
   "metadata": {},
   "outputs": [],
   "source": [
    "spec = Spectral(1, 1, 512, 512, 0.03, 'random')\n",
    "spec.step = spec.step_method5"
   ]
  },
  {
   "cell_type": "code",
   "execution_count": null,
   "id": "de3f04a6",
   "metadata": {
    "scrolled": true
   },
   "outputs": [],
   "source": [
    "\"\"\"Press Ctrl+Return on this cell to monitor the concentrations\"\"\"\n",
    "temp = f\"Total: {spec.u.size}\", f\"Below viable: {spec.u[spec.u>1].size}\", f\"Above viable: {spec.u[spec.u<-1].size}\"\n",
    "print(temp)"
   ]
  },
  {
   "cell_type": "markdown",
   "id": "20277685",
   "metadata": {},
   "source": [
    "Plotting $|k|^4$.\n",
    "\n",
    "Its values depend only on the positions of the spatial grid."
   ]
  },
  {
   "cell_type": "code",
   "execution_count": null,
   "id": "29485874",
   "metadata": {},
   "outputs": [],
   "source": [
    "plot = 0\n",
    "# 1: filled contour, 2: just level curves, else: greyscale image\n",
    "plt.xlabel(\"x interval\")\n",
    "\n",
    "if plot==1:\n",
    "    plt.contourf(spec.y, spec.x, spec.k2**2, cmap=plt.cm.gray)\n",
    "elif plot==2:\n",
    "    plt.contour(spec.y, spec.x, spec.k2**2, cmap=plt.cm.gray)\n",
    "else:\n",
    "    plt.imshow(spec.k2**2, extent=(0,1,0,1), cmap=plt.cm.gray, origin='lower')\n",
    "plt.show()"
   ]
  }
 ],
 "metadata": {
  "kernelspec": {
   "display_name": "Python 3 (ipykernel)",
   "language": "python",
   "name": "python3"
  },
  "language_info": {
   "codemirror_mode": {
    "name": "ipython",
    "version": 3
   },
   "file_extension": ".py",
   "mimetype": "text/x-python",
   "name": "python",
   "nbconvert_exporter": "python",
   "pygments_lexer": "ipython3",
   "version": "3.9.5"
  }
 },
 "nbformat": 4,
 "nbformat_minor": 5
}
