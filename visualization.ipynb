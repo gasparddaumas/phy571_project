{
 "cells": [
  {
   "cell_type": "code",
   "execution_count": null,
   "id": "e19b70f6",
   "metadata": {
    "scrolled": true
   },
   "outputs": [],
   "source": [
    "%matplotlib notebook\n",
    "\n",
    "import sys\n",
    "import numpy as np\n",
    "import matplotlib.pyplot as plt\n",
    "import matplotlib.animation as animation\n",
    "import scipy.stats as stats\n",
    "from design.spectral import Spectral\n",
    "np.random.seed(0)\n",
    "\n",
    "multiplier = 1\n",
    "plot = 1 # 1: filled contour, 2: just level curves, else: greyscale image\n",
    "initialization = 'random' #'random', 'separated_x', 'separated_y', 'trivial_x', 'trivial_y', \n",
    "Lx = Ly = 1\n",
    "Nx = 100\n",
    "Ny = 100\n",
    "# Nx = 128\n",
    "# Ny = 64\n",
    "eps = multiplier*0.03253176201497791\n",
    "dt, Nt = 0.0001, 10\n",
    "show_error=False\n",
    "\n",
    "spec = Spectral(Lx, Ly, Nx, Ny, eps, initialization)\n",
    "\n",
    "# |k|^4 plot:\n",
    "\n",
    "if plot==1:\n",
    "    plt.contourf(spec.k2**2, cmap=plt.cm.gray)\n",
    "elif plot==2:\n",
    "    plt.contour(spec.k2**2, cmap=plt.cm.gray)\n",
    "else:\n",
    "    plt.imshow(spec.k2**2, cmap=plt.cm.gray, origin='lower')\n",
    "plt.show()"
   ]
  },
  {
   "cell_type": "code",
   "execution_count": null,
   "id": "1e54557a",
   "metadata": {
    "scrolled": false
   },
   "outputs": [],
   "source": [
    "fig, axs = plt.subplots(1, 2)\n",
    "axs[0].set_title(\"Visualization\")\n",
    "axs[1].set_title(\"Histogram of relative concentrations\")\n",
    "\n",
    "plot=plot\n",
    "bins=levels=32\n",
    "\n",
    "if(plot==1):\n",
    "    axs[0].contourf(spec.u, levels=levels, cmap=plt.cm.gray)\n",
    "if(plot==2):\n",
    "    axs[0].contour(spec.u, levels=levels, cmap=plt.cm.gray)\n",
    "else:\n",
    "    image = axs[0].imshow(spec.u, cmap=plt.cm.gray, origin='lower', animated=True)\n",
    "\n",
    "if show_error:\n",
    "    error_info = axs[0].text(0.5,0.85, f\"Difference: {0}\",\n",
    "        bbox={'facecolor':'w', 'alpha':0.5, 'pad':5},\n",
    "        transform=axs[0].transAxes, ha=\"center\")\n",
    "\n",
    "histogram = axs[1].hist(spec.u.flatten(), bins=bins)\n",
    "\n",
    "def animate(i):\n",
    "    spec.advance(dt, Nt)\n",
    "    if(plot==1):\n",
    "        axs[0].clear()\n",
    "        axs[0].contourf(spec.u, levels=levels, cmap=plt.cm.gray)\n",
    "    if(plot==2):\n",
    "        axs[0].clear()\n",
    "        axs[0].contour(spec.u, levels=levels, cmap=plt.cm.gray)\n",
    "    else:\n",
    "        image.set_data(spec.u)\n",
    "    axs[1].cla()\n",
    "    distribution = spec.u.flatten()\n",
    "\n",
    "    histogram = axs[1].hist(distribution, bins=bins)\n",
    "    if show_error:\n",
    "#         err, = [np.log(np.abs(np.sum(spec.u)/(Nx*Ny)/deviation - 1))/np.log(10)\n",
    "        err, = [(np.abs(np.sum(spec.u)/(Nx*Ny) - deviation))\n",
    "        if deviation!=0 else -np.inf]\n",
    "        error_info.set_text(f\"Log-error: {err}\")\n",
    "    return \n",
    "\n",
    "anim = animation.FuncAnimation(fig=fig, func=animate)\n",
    "\n",
    "plt.show()"
   ]
  },
  {
   "cell_type": "code",
   "execution_count": null,
   "id": "d435f0c4",
   "metadata": {},
   "outputs": [],
   "source": [
    "\"\"\"Keep pressing Ctrl+Return on this cell to monitor the satate of the concentrations\"\"\"\n",
    "temp = f\"Total: {spec.u.size}\", f\"Below viable: {spec.u[spec.u>1].size}\", f\"Above viable: {spec.u[spec.u<-1].size}\"\n",
    "print(temp)\n",
    "spec.u.size, np.sum(spec.u>1), np.sum(spec.u<-1)"
   ]
  }
 ],
 "metadata": {
  "kernelspec": {
   "display_name": "Python 3 (ipykernel)",
   "language": "python",
   "name": "python3"
  },
  "language_info": {
   "codemirror_mode": {
    "name": "ipython",
    "version": 3
   },
   "file_extension": ".py",
   "mimetype": "text/x-python",
   "name": "python",
   "nbconvert_exporter": "python",
   "pygments_lexer": "ipython3",
   "version": "3.9.5"
  }
 },
 "nbformat": 4,
 "nbformat_minor": 5
}
