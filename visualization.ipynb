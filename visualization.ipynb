{
 "cells": [
  {
   "cell_type": "code",
   "execution_count": null,
   "id": "e19b70f6",
   "metadata": {},
   "outputs": [],
   "source": [
    "%matplotlib notebook\n",
    "\n",
    "import sys\n",
    "import numpy as np\n",
    "import matplotlib.pyplot as plt\n",
    "import matplotlib.animation as animation\n",
    "import scipy.stats as stats\n",
    "from design.spectral import Spectral\n",
    "np.random.seed(0)\n",
    "\n",
    "multiplier = 1\n",
    "contour = False\n",
    "initialization = 'separated_y' #'random', 'separated_x', 'separated_y', 'trivial_x', 'trivial_y', \n",
    "Lx = Ly = 1\n",
    "Nx = 256 \n",
    "Ny = 64\n",
    "eps = multiplier*0.03253176201497791\n",
    "dt, Nt = 0.000001, 100\n",
    "show_error=False\n",
    "\n",
    "spec = Spectral(Lx, Ly, Nx, Ny, eps, initialization)\n",
    "\n",
    "# |k|^4 plot:\n",
    "plt.imshow(spec.k2**2, cmap=plt.cm.gray)\n",
    "plt.show()"
   ]
  },
  {
   "cell_type": "code",
   "execution_count": null,
   "id": "1e54557a",
   "metadata": {},
   "outputs": [],
   "source": [
    "fig, axs = plt.subplots(1, 2)\n",
    "axs[0].set_title(\"Visualization\")\n",
    "axs[1].set_title(\"Histogram of relative concentrations\")\n",
    "\n",
    "if(contour):\n",
    "    axs[0].contour(spec.u)\n",
    "else:\n",
    "    image = axs[0].imshow(spec.u, cmap=plt.cm.gray, animated=True)\n",
    "\n",
    "if show_error:\n",
    "    error_info = axs[0].text(0.5,0.85, f\"Difference: {0}\",\n",
    "        bbox={'facecolor':'w', 'alpha':0.5, 'pad':5},\n",
    "        transform=axs[0].transAxes, ha=\"center\")\n",
    "\n",
    "histogram = axs[1].hist(spec.u.flatten(), bins=100)\n",
    "\n",
    "def animate(i):\n",
    "    spec.advance(dt, Nt)\n",
    "    if(contour):\n",
    "        axs[0].cla()\n",
    "        axs[0].contour(spec.u)\n",
    "    else:\n",
    "        image.set_data(spec.u)\n",
    "    axs[1].cla()\n",
    "    distribution = spec.u.flatten()\n",
    "\n",
    "    histogram = axs[1].hist(distribution, bins=50)\n",
    "    if show_error:\n",
    "#         err, = [(np.abs(np.sum(spec.u)/(Nx*Ny) - deviation))\n",
    "        err, = [np.log(np.abs(np.sum(spec.u)/(Nx*Ny)/deviation - 1))/np.log(10)\n",
    "        if deviation!=0 else -np.inf]\n",
    "        error_info.set_text(f\"Log-error: {err}\")\n",
    "    return \n",
    "\n",
    "anim = animation.FuncAnimation(fig=fig, func=animate)\n",
    "\n",
    "plt.show()"
   ]
  }
 ],
 "metadata": {
  "kernelspec": {
   "display_name": "Python 3",
   "language": "python",
   "name": "python3"
  },
  "language_info": {
   "codemirror_mode": {
    "name": "ipython",
    "version": 3
   },
   "file_extension": ".py",
   "mimetype": "text/x-python",
   "name": "python",
   "nbconvert_exporter": "python",
   "pygments_lexer": "ipython3",
   "version": "3.8.8"
  }
 },
 "nbformat": 4,
 "nbformat_minor": 5
}
