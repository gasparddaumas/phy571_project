{
 "cells": [
  {
   "cell_type": "code",
   "execution_count": null,
   "id": "71ea4b99",
   "metadata": {},
   "outputs": [],
   "source": [
    "#%matplotlib notebook\n",
    "\n",
    "from source.spectral import Spectral\n",
    "import numpy as np\n",
    "import matplotlib\n",
    "import matplotlib.pyplot as plt\n",
    "import matplotlib.animation as animation\n",
    "from IPython.display import HTML\n",
    "np.random.seed(0)\n",
    "\n",
    "matplotlib.use(\"Agg\")"
   ]
  },
  {
   "cell_type": "markdown",
   "id": "065dba06",
   "metadata": {},
   "source": [
    "# Initializing spectral model"
   ]
  },
  {
   "cell_type": "code",
   "execution_count": null,
   "id": "76f26f17",
   "metadata": {},
   "outputs": [],
   "source": [
    "Lx=Ly=1\n",
    "Nx=Ny=1024\n",
    "v = 4*0.0026*200/(2*np.sqrt(2)*np.arctanh(0.9))\n",
    "\n",
    "system = Spectral(Lx, Ly, Nx, Ny, 0.005, 'random')\n",
    "system.u = np.random.uniform(-1, 1, [Nx, Ny])\n",
    "# system.u = np.tanh(np.random.normal(size=[Nx, Ny]))\n",
    "# system.u = np.random.choice([-1,1],size=Nx*Ny).reshape([Nx,Ny])\n",
    "# system.step = system.step_method2\n",
    "print(system.u.mean(), system.u.std())"
   ]
  },
  {
   "cell_type": "code",
   "execution_count": null,
   "id": "5b39ed2f",
   "metadata": {},
   "outputs": [],
   "source": [
    "img_fig = plt.figure(1)\n",
    "cnt_fig = plt.figure(2)\n",
    "img_axs = img_fig.add_subplot(111)\n",
    "cnt_axs = cnt_fig.add_subplot(111)\n",
    "\n",
    "img_axs.set_title(\"Image\")\n",
    "img_axs.set_xlabel(\"X\")\n",
    "img_axs.set_ylabel(\"Y\")\n",
    "\n",
    "cnt_axs.set_title(\"Contour\")\n",
    "cnt_axs.set_xlabel(\"X\")\n",
    "cnt_axs.set_ylabel(\"Y\")"
   ]
  },
  {
   "cell_type": "code",
   "execution_count": null,
   "id": "8a0ca158",
   "metadata": {
    "scrolled": true
   },
   "outputs": [],
   "source": [
    "cmap='gray'\n",
    "\n",
    "img = img_axs.imshow(system.u, extent=(0, Lx,0, Ly), cmap=cmap, origin='lower', animated=True)\n",
    "def img_anim(i):\n",
    "    system.evolve(1, dt, Nt)\n",
    "    img.set_data(system.u)\n",
    "    return\n",
    "\n",
    "n=2\n",
    "levels=np.arange(-n,n)\n",
    "levels=np.array([np.tanh(c) for c in levels])\n",
    "# levels=[-0.9, -.45, -0.35, 0, 0.35, .45, 0.9]\n",
    "# levels=[-0.9, -0.35, 0, 0.35, 0.9]\n",
    "\n",
    "# countourf is usually similar to imshow, depending on the contours.\n",
    "cnt_axs.contour(system.y, system.x, system.u, levels=levels, cmap='gray')\n",
    "def cnt_anim(i):\n",
    "    system.evolve(1, dt, Nt)\n",
    "    cnt_axs.clear()\n",
    "    cnt_axs.contour(system.y, system.x, system.u, levels=levels, cmap='gray')\n",
    "    return"
   ]
  },
  {
   "cell_type": "code",
   "execution_count": null,
   "id": "ecd7156b",
   "metadata": {},
   "outputs": [],
   "source": [
    "# system.evolve(1, 3e-3, 5)\n",
    "dt, Nt = 1e-5, 1\n",
    "\n",
    "# anim = animation.FuncAnimation(fig=cnt_fig, func=cnt_anim, frames=5)\n",
    "anim = animation.FuncAnimation(fig=img_fig, func=img_anim, frames=1)\n",
    "\n",
    "HTML(anim.to_jshtml())"
   ]
  },
  {
   "cell_type": "code",
   "execution_count": null,
   "id": "a709f76c",
   "metadata": {},
   "outputs": [],
   "source": [
    "system.evolve(100, dt, Nt)"
   ]
  },
  {
   "cell_type": "code",
   "execution_count": null,
   "id": "de3f04a6",
   "metadata": {
    "scrolled": true
   },
   "outputs": [],
   "source": [
    "\"\"\"Press Ctrl+Return on this cell to monitor the concentrations\"\"\"\n",
    "temp = f\"Total: {system.u.size}\", f\"Below viable: {system.u[system.u>1].size}\", f\"Above viable: {system.u[system.u<-1].size}\"\n",
    "print(temp)"
   ]
  },
  {
   "cell_type": "markdown",
   "id": "20277685",
   "metadata": {},
   "source": [
    "Plotting $|k|^4$.\n",
    "\n",
    "Its values depend only on the positions of the spatial grid."
   ]
  },
  {
   "cell_type": "code",
   "execution_count": null,
   "id": "29485874",
   "metadata": {},
   "outputs": [],
   "source": [
    "plot = 0\n",
    "plt.xlabel(\"x interval\")\n",
    "\n",
    "if plot==1:\n",
    "    plt.contourf(system.y, system.x, system.k2**2, cmap=plt.cm.gray)\n",
    "elif plot==2:\n",
    "    plt.contour(system.y, system.x, system.k2**2, cmap=plt.cm.gray)\n",
    "else:\n",
    "    plt.imshow(system.k2**2, extent=(0,1,0,1), cmap=plt.cm.gray, origin='lower')\n",
    "plt.show()"
   ]
  }
 ],
 "metadata": {
  "kernelspec": {
   "display_name": "Python 3 (ipykernel)",
   "language": "python",
   "name": "python3"
  },
  "language_info": {
   "codemirror_mode": {
    "name": "ipython",
    "version": 3
   },
   "file_extension": ".py",
   "mimetype": "text/x-python",
   "name": "python",
   "nbconvert_exporter": "python",
   "pygments_lexer": "ipython3",
   "version": "3.9.5"
  }
 },
 "nbformat": 4,
 "nbformat_minor": 5
}
